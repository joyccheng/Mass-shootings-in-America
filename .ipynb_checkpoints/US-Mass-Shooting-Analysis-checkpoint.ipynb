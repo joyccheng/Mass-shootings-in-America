{
 "cells": [
  {
   "cell_type": "markdown",
   "metadata": {},
   "source": [
    "## Data Analysis on Mass Shootings in America 1966-2016\n",
    "### - using Python's Pandas \n",
    "\n",
    "#### Mass Shooting Criteria: \n",
    "            According to Standford Geospatial Center, \n",
    "            a mass killing is defined as a killing with \n",
    "            at least three fatal or nonfatal injuries, \n",
    "            excluding the perpetrator(shooter). \n",
    "https://www.rand.org/research/gun-policy/analysis/essays/mass-shootings.html\n",
    "\n",
    "#### Resources:\n",
    "            Data Retrieved from OpenDataSoft, \n",
    "            Raw data published by \n",
    "            Stanford Geospatial Center and Stanford Libraries\n",
    "https://public.opendatasoft.com/explore/dataset/mass-shootings-in-america/information/?sort=date&dataChart=eyJxdWVyaWVzIjpbeyJjb25maWciOnsiZGF0YXNldCI6Im1hc3Mtc2hvb3RpbmdzLWluLWFtZXJpY2EiLCJvcHRpb25zIjp7InNvcnQiOiJkYXRlIn19LCJjaGFydHMiOlt7ImFsaWduTW9udGgiOnRydWUsInR5cGUiOiJsaW5lIiwiZnVuYyI6IkFWRyIsInlBeGlzIjoiY2FzZWlkIiwic2NpZW50aWZpY0Rpc3BsYXkiOnRydWUsImNvbG9yIjoiI0ZGNTE1QSJ9XSwieEF4aXMiOiJkYXRlIiwibWF4cG9pbnRzIjoiIiwidGltZXNjYWxlIjoieWVhciIsInNvcnQiOiIifV0sImRpc3BsYXlMZWdlbmQiOnRydWUsImFsaWduTW9udGgiOnRydWV9\n"
   ]
  },
  {
   "cell_type": "code",
   "execution_count": 36,
   "metadata": {
    "scrolled": false
   },
   "outputs": [
    {
     "data": {
      "text/html": [
       "<div>\n",
       "<style scoped>\n",
       "    .dataframe tbody tr th:only-of-type {\n",
       "        vertical-align: middle;\n",
       "    }\n",
       "\n",
       "    .dataframe tbody tr th {\n",
       "        vertical-align: top;\n",
       "    }\n",
       "\n",
       "    .dataframe thead th {\n",
       "        text-align: right;\n",
       "    }\n",
       "</style>\n",
       "<table border=\"1\" class=\"dataframe\">\n",
       "  <thead>\n",
       "    <tr style=\"text-align: right;\">\n",
       "      <th></th>\n",
       "      <th>CaseID</th>\n",
       "      <th>Title</th>\n",
       "      <th>Location</th>\n",
       "      <th>City</th>\n",
       "      <th>State</th>\n",
       "      <th>Latitude</th>\n",
       "      <th>Longitude</th>\n",
       "      <th>Number of Victim Fatalities</th>\n",
       "      <th>Total Number of Fatalities</th>\n",
       "      <th>Number of Victims Injured</th>\n",
       "      <th>Total Number of Victims</th>\n",
       "      <th>Description</th>\n",
       "      <th>Date</th>\n",
       "      <th>Day of Week</th>\n",
       "      <th>Date - Detailed</th>\n",
       "      <th>Shooter Name</th>\n",
       "      <th>Shooter Age(s)</th>\n",
       "      <th>Average Shooter Age</th>\n",
       "      <th>Shooter Sex</th>\n",
       "      <th>Shooter Race</th>\n",
       "      <th>Type of Gun - Detailed</th>\n",
       "      <th>Type of Gun - General</th>\n",
       "      <th>Number of Shotguns</th>\n",
       "      <th>Number of Rifles</th>\n",
       "      <th>Number of Handguns</th>\n",
       "      <th>Total Number of Guns</th>\n",
       "      <th>Number of Automatic Guns</th>\n",
       "      <th>Number of Semi-Automatic Guns</th>\n",
       "      <th>Fate of Shooter at the scene</th>\n",
       "      <th>Shooter's Cause of Death</th>\n",
       "      <th>School Related</th>\n",
       "      <th>Place Type</th>\n",
       "      <th>Relationship to Incident Location</th>\n",
       "      <th>Targeted Victim/s - Detailed</th>\n",
       "      <th>Targeted Victim/s - General</th>\n",
       "      <th>Possible Motive - Detailed</th>\n",
       "      <th>Possible Motive - General</th>\n",
       "      <th>History of Mental Illness - Detailed</th>\n",
       "      <th>History of Mental Illness - General</th>\n",
       "      <th>Data Source 1</th>\n",
       "      <th>Data Source 2</th>\n",
       "      <th>Data Source 3</th>\n",
       "      <th>Data Source 4</th>\n",
       "      <th>Data Source 5</th>\n",
       "      <th>Data Source 6</th>\n",
       "      <th>Data Source 7</th>\n",
       "      <th>Military Experience</th>\n",
       "      <th>Class</th>\n",
       "      <th>geopoint</th>\n",
       "    </tr>\n",
       "  </thead>\n",
       "  <tbody>\n",
       "    <tr>\n",
       "      <th>0</th>\n",
       "      <td>140</td>\n",
       "      <td>Phoenix Law Firm</td>\n",
       "      <td>Phoenix, Arizona</td>\n",
       "      <td>Phoenix</td>\n",
       "      <td>Arizona</td>\n",
       "      <td>33.571459</td>\n",
       "      <td>-112.090485</td>\n",
       "      <td>2</td>\n",
       "      <td>3</td>\n",
       "      <td>1</td>\n",
       "      <td>3</td>\n",
       "      <td>On January 30, 2013, a 70-year old man attende...</td>\n",
       "      <td>1/30/2013</td>\n",
       "      <td>Wednesday</td>\n",
       "      <td>Wednesday, January 30, 2013</td>\n",
       "      <td>Arthur Douglas Harmon</td>\n",
       "      <td>70.0</td>\n",
       "      <td>70.0</td>\n",
       "      <td>Male</td>\n",
       "      <td>White American or European American</td>\n",
       "      <td>Springfield 1911 .45 caliber pistol, Ruger .22...</td>\n",
       "      <td>Multiple guns</td>\n",
       "      <td>0.0</td>\n",
       "      <td>1.0</td>\n",
       "      <td>2.0</td>\n",
       "      <td>3.0</td>\n",
       "      <td>0.0</td>\n",
       "      <td>3.0</td>\n",
       "      <td>Deceased</td>\n",
       "      <td>Suicide</td>\n",
       "      <td>No</td>\n",
       "      <td>Company/Factory/Office</td>\n",
       "      <td>Place of business/employment</td>\n",
       "      <td>The shooter was angry about a payment over wor...</td>\n",
       "      <td>Colleague/Workmate/Business acquaintance</td>\n",
       "      <td>The shooter was unhappy about a business payme...</td>\n",
       "      <td>Legal dispute</td>\n",
       "      <td>Unknown</td>\n",
       "      <td>Unknown</td>\n",
       "      <td>http://www.cnn.com/2013/01/31/justice/arizona-...</td>\n",
       "      <td>http://www.usatoday.com/story/news/nation/2013...</td>\n",
       "      <td>http://usnews.nbcnews.com/_news/2013/02/01/168...</td>\n",
       "      <td>http://www.nytimes.com/2013/02/01/us/man-suspe...</td>\n",
       "      <td>http://www.huffingtonpost.com/2013/01/31/phoen...</td>\n",
       "      <td>http://phoenix.gov/police/arthur_douglas_harmo...</td>\n",
       "      <td>http://www.abc15.com/news/region-southeast-val...</td>\n",
       "      <td>Unknown</td>\n",
       "      <td>MS</td>\n",
       "      <td>33.57145875, -112.0904854</td>\n",
       "    </tr>\n",
       "    <tr>\n",
       "      <th>1</th>\n",
       "      <td>128</td>\n",
       "      <td>Oikos University</td>\n",
       "      <td>Oakland, California</td>\n",
       "      <td>Oakland</td>\n",
       "      <td>California</td>\n",
       "      <td>37.791768</td>\n",
       "      <td>-122.215317</td>\n",
       "      <td>7</td>\n",
       "      <td>7</td>\n",
       "      <td>3</td>\n",
       "      <td>10</td>\n",
       "      <td>On April 2, 2012, a 43-year old former student...</td>\n",
       "      <td>4/2/2012</td>\n",
       "      <td>Monday</td>\n",
       "      <td>Monday, April 02, 2012</td>\n",
       "      <td>One L. Goh</td>\n",
       "      <td>43.0</td>\n",
       "      <td>43.0</td>\n",
       "      <td>Male</td>\n",
       "      <td>Asian American</td>\n",
       "      <td>.45 caliber semi-automatic handgun</td>\n",
       "      <td>Handgun</td>\n",
       "      <td>0.0</td>\n",
       "      <td>0.0</td>\n",
       "      <td>1.0</td>\n",
       "      <td>1.0</td>\n",
       "      <td>0.0</td>\n",
       "      <td>1.0</td>\n",
       "      <td>Arrested</td>\n",
       "      <td>Not applicable</td>\n",
       "      <td>Yes</td>\n",
       "      <td>College/University/Adult education</td>\n",
       "      <td>Place of schooling</td>\n",
       "      <td>School administrator and fellow schoolmates</td>\n",
       "      <td>Students/Classmates/Teacher</td>\n",
       "      <td>The shooter was expelled from school and his r...</td>\n",
       "      <td>Multiple motives</td>\n",
       "      <td>Two independent reports from different psychia...</td>\n",
       "      <td>Yes</td>\n",
       "      <td>http://berkeley.patch.com/articles/one-l-goh-s...</td>\n",
       "      <td>http://www.bbc.co.uk/news/world-us-canada-1759...</td>\n",
       "      <td>http://abcnews.go.com/US/oikos-university-shoo...</td>\n",
       "      <td>http://latimesblogs.latimes.com/lanow/2012/04/...</td>\n",
       "      <td>NaN</td>\n",
       "      <td>NaN</td>\n",
       "      <td>NaN</td>\n",
       "      <td>Unknown</td>\n",
       "      <td>MS</td>\n",
       "      <td>37.79176806, -122.2153171</td>\n",
       "    </tr>\n",
       "    <tr>\n",
       "      <th>2</th>\n",
       "      <td>158</td>\n",
       "      <td>Fort Hood</td>\n",
       "      <td>Killeen, Texas</td>\n",
       "      <td>Killeen</td>\n",
       "      <td>Texas</td>\n",
       "      <td>31.079255</td>\n",
       "      <td>-97.733923</td>\n",
       "      <td>3</td>\n",
       "      <td>4</td>\n",
       "      <td>16</td>\n",
       "      <td>19</td>\n",
       "      <td>On April 2, 2014, a 34-year-old Army Specialis...</td>\n",
       "      <td>4/2/2014</td>\n",
       "      <td>Wednesday</td>\n",
       "      <td>Wednesday, April 2, 2014</td>\n",
       "      <td>Ivan Lopez</td>\n",
       "      <td>34.0</td>\n",
       "      <td>34.0</td>\n",
       "      <td>Male</td>\n",
       "      <td>Some other race</td>\n",
       "      <td>.45-caliber Smith &amp; Wesson semiautomatic pistol</td>\n",
       "      <td>Handgun</td>\n",
       "      <td>0.0</td>\n",
       "      <td>0.0</td>\n",
       "      <td>1.0</td>\n",
       "      <td>1.0</td>\n",
       "      <td>0.0</td>\n",
       "      <td>1.0</td>\n",
       "      <td>Deceased</td>\n",
       "      <td>Suicide</td>\n",
       "      <td>No</td>\n",
       "      <td>Military facility</td>\n",
       "      <td>Place of business/employment</td>\n",
       "      <td>Military personnel, soldiers, hospital employees</td>\n",
       "      <td>Government</td>\n",
       "      <td>The shooter was experiencing outbreaks from hi...</td>\n",
       "      <td>Mental illness</td>\n",
       "      <td>The shooter was being treated for depression a...</td>\n",
       "      <td>Yes</td>\n",
       "      <td>http://www.cnn.com/2014/04/02/us/fort-hood-sho...</td>\n",
       "      <td>http://www.huffingtonpost.com/2014/04/07/ivan-...</td>\n",
       "      <td>http://www.usatoday.com/story/news/nation/2014...</td>\n",
       "      <td>NaN</td>\n",
       "      <td>NaN</td>\n",
       "      <td>NaN</td>\n",
       "      <td>NaN</td>\n",
       "      <td>Yes</td>\n",
       "      <td>MS</td>\n",
       "      <td>31.07925506, -97.73392317</td>\n",
       "    </tr>\n",
       "    <tr>\n",
       "      <th>3</th>\n",
       "      <td>261</td>\n",
       "      <td>Lawrenceburg, Tennessee</td>\n",
       "      <td>Lawrenceburg, Tennessee</td>\n",
       "      <td>Lawrenceburg</td>\n",
       "      <td>Tennessee</td>\n",
       "      <td>35.242302</td>\n",
       "      <td>-87.334739</td>\n",
       "      <td>1</td>\n",
       "      <td>2</td>\n",
       "      <td>2</td>\n",
       "      <td>3</td>\n",
       "      <td>The man was suspected of shooting his wife and...</td>\n",
       "      <td>3/25/2016</td>\n",
       "      <td>Friday</td>\n",
       "      <td>2016-03-25 00:00:00</td>\n",
       "      <td>Charles Monroe Woods</td>\n",
       "      <td>49.0</td>\n",
       "      <td>49.0</td>\n",
       "      <td>Male</td>\n",
       "      <td>Unknown</td>\n",
       "      <td>Shotgun</td>\n",
       "      <td>Shotgun</td>\n",
       "      <td>1.0</td>\n",
       "      <td>0.0</td>\n",
       "      <td>0.0</td>\n",
       "      <td>1.0</td>\n",
       "      <td>NaN</td>\n",
       "      <td>NaN</td>\n",
       "      <td>Deceased</td>\n",
       "      <td>Suicide</td>\n",
       "      <td>No</td>\n",
       "      <td>Residential home/Neighborhood</td>\n",
       "      <td>Place of residency</td>\n",
       "      <td>The shooter's wife and two sons</td>\n",
       "      <td>Family</td>\n",
       "      <td>Unknown</td>\n",
       "      <td>Unknown</td>\n",
       "      <td>According to the extended family members, the ...</td>\n",
       "      <td>Unknown</td>\n",
       "      <td>http://www.al.com/news/huntsville/index.ssf/20...</td>\n",
       "      <td>http://www.al.com/news/huntsville/index.ssf/20...</td>\n",
       "      <td>http://www.timesdaily.com/news/brothers-improv...</td>\n",
       "      <td>NaN</td>\n",
       "      <td>NaN</td>\n",
       "      <td>NaN</td>\n",
       "      <td>NaN</td>\n",
       "      <td>Unknown</td>\n",
       "      <td>MS</td>\n",
       "      <td>35.242302, -87.334739</td>\n",
       "    </tr>\n",
       "    <tr>\n",
       "      <th>4</th>\n",
       "      <td>262</td>\n",
       "      <td>Louisburg, North Carolina</td>\n",
       "      <td>Louisburg, North Carolina</td>\n",
       "      <td>Louisburg</td>\n",
       "      <td>North Carolina</td>\n",
       "      <td>36.099039</td>\n",
       "      <td>-78.301106</td>\n",
       "      <td>3</td>\n",
       "      <td>3</td>\n",
       "      <td>0</td>\n",
       "      <td>3</td>\n",
       "      <td>Three people were killed in a shooting at a ho...</td>\n",
       "      <td>3/26/2016</td>\n",
       "      <td>Saturday</td>\n",
       "      <td>2016-03-26 00:00:00</td>\n",
       "      <td>Darius Robinson</td>\n",
       "      <td>NaN</td>\n",
       "      <td>NaN</td>\n",
       "      <td>Male</td>\n",
       "      <td>Black American or African American</td>\n",
       "      <td>Unknown</td>\n",
       "      <td>Unknown</td>\n",
       "      <td>NaN</td>\n",
       "      <td>NaN</td>\n",
       "      <td>NaN</td>\n",
       "      <td>NaN</td>\n",
       "      <td>NaN</td>\n",
       "      <td>NaN</td>\n",
       "      <td>Escaped</td>\n",
       "      <td>Not applicable</td>\n",
       "      <td>No</td>\n",
       "      <td>Residential home/Neighborhood</td>\n",
       "      <td>Place of residency</td>\n",
       "      <td>Unknown</td>\n",
       "      <td>Unknown</td>\n",
       "      <td>Unknown</td>\n",
       "      <td>Unknown</td>\n",
       "      <td>Unknown</td>\n",
       "      <td>Unknown</td>\n",
       "      <td>http://wncn.com/2016/03/27/suspect-in-louisbur...</td>\n",
       "      <td>http://abc11.com/news/3-dead-in-franklin-count...</td>\n",
       "      <td>http://myfox8.com/2016/03/27/gov-mccrory-offer...</td>\n",
       "      <td>http://www.wral.com/1-dead-2-injured-in-shooti...</td>\n",
       "      <td>http://wncn.com/2016/03/26/2-dead-1-injured-in...</td>\n",
       "      <td>NaN</td>\n",
       "      <td>NaN</td>\n",
       "      <td>Unknown</td>\n",
       "      <td>MS</td>\n",
       "      <td>36.099039, -78.301106</td>\n",
       "    </tr>\n",
       "  </tbody>\n",
       "</table>\n",
       "</div>"
      ],
      "text/plain": [
       "   CaseID                      Title                   Location          City  \\\n",
       "0     140           Phoenix Law Firm           Phoenix, Arizona       Phoenix   \n",
       "1     128           Oikos University        Oakland, California       Oakland   \n",
       "2     158                  Fort Hood             Killeen, Texas       Killeen   \n",
       "3     261    Lawrenceburg, Tennessee    Lawrenceburg, Tennessee  Lawrenceburg   \n",
       "4     262  Louisburg, North Carolina  Louisburg, North Carolina     Louisburg   \n",
       "\n",
       "            State   Latitude   Longitude  Number of Victim Fatalities  \\\n",
       "0         Arizona  33.571459 -112.090485                            2   \n",
       "1      California  37.791768 -122.215317                            7   \n",
       "2           Texas  31.079255  -97.733923                            3   \n",
       "3       Tennessee  35.242302  -87.334739                            1   \n",
       "4  North Carolina  36.099039  -78.301106                            3   \n",
       "\n",
       "   Total Number of Fatalities  Number of Victims Injured  \\\n",
       "0                           3                          1   \n",
       "1                           7                          3   \n",
       "2                           4                         16   \n",
       "3                           2                          2   \n",
       "4                           3                          0   \n",
       "\n",
       "   Total Number of Victims                                        Description  \\\n",
       "0                        3  On January 30, 2013, a 70-year old man attende...   \n",
       "1                       10  On April 2, 2012, a 43-year old former student...   \n",
       "2                       19  On April 2, 2014, a 34-year-old Army Specialis...   \n",
       "3                        3  The man was suspected of shooting his wife and...   \n",
       "4                        3  Three people were killed in a shooting at a ho...   \n",
       "\n",
       "        Date Day of Week              Date - Detailed           Shooter Name  \\\n",
       "0  1/30/2013   Wednesday  Wednesday, January 30, 2013  Arthur Douglas Harmon   \n",
       "1   4/2/2012      Monday       Monday, April 02, 2012             One L. Goh   \n",
       "2   4/2/2014   Wednesday     Wednesday, April 2, 2014             Ivan Lopez   \n",
       "3  3/25/2016      Friday          2016-03-25 00:00:00   Charles Monroe Woods   \n",
       "4  3/26/2016    Saturday          2016-03-26 00:00:00        Darius Robinson   \n",
       "\n",
       "   Shooter Age(s)  Average Shooter Age Shooter Sex  \\\n",
       "0            70.0                 70.0        Male   \n",
       "1            43.0                 43.0        Male   \n",
       "2            34.0                 34.0        Male   \n",
       "3            49.0                 49.0        Male   \n",
       "4             NaN                  NaN        Male   \n",
       "\n",
       "                          Shooter Race  \\\n",
       "0  White American or European American   \n",
       "1                       Asian American   \n",
       "2                      Some other race   \n",
       "3                              Unknown   \n",
       "4   Black American or African American   \n",
       "\n",
       "                              Type of Gun - Detailed Type of Gun - General  \\\n",
       "0  Springfield 1911 .45 caliber pistol, Ruger .22...         Multiple guns   \n",
       "1                 .45 caliber semi-automatic handgun               Handgun   \n",
       "2    .45-caliber Smith & Wesson semiautomatic pistol               Handgun   \n",
       "3                                            Shotgun               Shotgun   \n",
       "4                                            Unknown               Unknown   \n",
       "\n",
       "   Number of Shotguns  Number of Rifles  Number of Handguns  \\\n",
       "0                 0.0               1.0                 2.0   \n",
       "1                 0.0               0.0                 1.0   \n",
       "2                 0.0               0.0                 1.0   \n",
       "3                 1.0               0.0                 0.0   \n",
       "4                 NaN               NaN                 NaN   \n",
       "\n",
       "   Total Number of Guns  Number of Automatic Guns  \\\n",
       "0                   3.0                       0.0   \n",
       "1                   1.0                       0.0   \n",
       "2                   1.0                       0.0   \n",
       "3                   1.0                       NaN   \n",
       "4                   NaN                       NaN   \n",
       "\n",
       "   Number of Semi-Automatic Guns Fate of Shooter at the scene  \\\n",
       "0                            3.0                     Deceased   \n",
       "1                            1.0                     Arrested   \n",
       "2                            1.0                     Deceased   \n",
       "3                            NaN                     Deceased   \n",
       "4                            NaN                      Escaped   \n",
       "\n",
       "  Shooter's Cause of Death School Related                          Place Type  \\\n",
       "0                  Suicide             No              Company/Factory/Office   \n",
       "1           Not applicable            Yes  College/University/Adult education   \n",
       "2                  Suicide             No                   Military facility   \n",
       "3                  Suicide             No       Residential home/Neighborhood   \n",
       "4           Not applicable             No       Residential home/Neighborhood   \n",
       "\n",
       "  Relationship to Incident Location  \\\n",
       "0      Place of business/employment   \n",
       "1                Place of schooling   \n",
       "2      Place of business/employment   \n",
       "3                Place of residency   \n",
       "4                Place of residency   \n",
       "\n",
       "                        Targeted Victim/s - Detailed  \\\n",
       "0  The shooter was angry about a payment over wor...   \n",
       "1        School administrator and fellow schoolmates   \n",
       "2   Military personnel, soldiers, hospital employees   \n",
       "3                    The shooter's wife and two sons   \n",
       "4                                            Unknown   \n",
       "\n",
       "                Targeted Victim/s - General  \\\n",
       "0  Colleague/Workmate/Business acquaintance   \n",
       "1               Students/Classmates/Teacher   \n",
       "2                                Government   \n",
       "3                                    Family   \n",
       "4                                   Unknown   \n",
       "\n",
       "                          Possible Motive - Detailed  \\\n",
       "0  The shooter was unhappy about a business payme...   \n",
       "1  The shooter was expelled from school and his r...   \n",
       "2  The shooter was experiencing outbreaks from hi...   \n",
       "3                                            Unknown   \n",
       "4                                            Unknown   \n",
       "\n",
       "  Possible Motive - General  \\\n",
       "0             Legal dispute   \n",
       "1          Multiple motives   \n",
       "2            Mental illness   \n",
       "3                   Unknown   \n",
       "4                   Unknown   \n",
       "\n",
       "                History of Mental Illness - Detailed  \\\n",
       "0                                            Unknown   \n",
       "1  Two independent reports from different psychia...   \n",
       "2  The shooter was being treated for depression a...   \n",
       "3  According to the extended family members, the ...   \n",
       "4                                            Unknown   \n",
       "\n",
       "  History of Mental Illness - General  \\\n",
       "0                             Unknown   \n",
       "1                                 Yes   \n",
       "2                                 Yes   \n",
       "3                             Unknown   \n",
       "4                             Unknown   \n",
       "\n",
       "                                       Data Source 1  \\\n",
       "0  http://www.cnn.com/2013/01/31/justice/arizona-...   \n",
       "1  http://berkeley.patch.com/articles/one-l-goh-s...   \n",
       "2  http://www.cnn.com/2014/04/02/us/fort-hood-sho...   \n",
       "3  http://www.al.com/news/huntsville/index.ssf/20...   \n",
       "4  http://wncn.com/2016/03/27/suspect-in-louisbur...   \n",
       "\n",
       "                                       Data Source 2  \\\n",
       "0  http://www.usatoday.com/story/news/nation/2013...   \n",
       "1  http://www.bbc.co.uk/news/world-us-canada-1759...   \n",
       "2  http://www.huffingtonpost.com/2014/04/07/ivan-...   \n",
       "3  http://www.al.com/news/huntsville/index.ssf/20...   \n",
       "4  http://abc11.com/news/3-dead-in-franklin-count...   \n",
       "\n",
       "                                       Data Source 3  \\\n",
       "0  http://usnews.nbcnews.com/_news/2013/02/01/168...   \n",
       "1  http://abcnews.go.com/US/oikos-university-shoo...   \n",
       "2  http://www.usatoday.com/story/news/nation/2014...   \n",
       "3  http://www.timesdaily.com/news/brothers-improv...   \n",
       "4  http://myfox8.com/2016/03/27/gov-mccrory-offer...   \n",
       "\n",
       "                                       Data Source 4  \\\n",
       "0  http://www.nytimes.com/2013/02/01/us/man-suspe...   \n",
       "1  http://latimesblogs.latimes.com/lanow/2012/04/...   \n",
       "2                                                NaN   \n",
       "3                                                NaN   \n",
       "4  http://www.wral.com/1-dead-2-injured-in-shooti...   \n",
       "\n",
       "                                       Data Source 5  \\\n",
       "0  http://www.huffingtonpost.com/2013/01/31/phoen...   \n",
       "1                                                NaN   \n",
       "2                                                NaN   \n",
       "3                                                NaN   \n",
       "4  http://wncn.com/2016/03/26/2-dead-1-injured-in...   \n",
       "\n",
       "                                       Data Source 6  \\\n",
       "0  http://phoenix.gov/police/arthur_douglas_harmo...   \n",
       "1                                                NaN   \n",
       "2                                                NaN   \n",
       "3                                                NaN   \n",
       "4                                                NaN   \n",
       "\n",
       "                                       Data Source 7 Military Experience  \\\n",
       "0  http://www.abc15.com/news/region-southeast-val...             Unknown   \n",
       "1                                                NaN             Unknown   \n",
       "2                                                NaN                 Yes   \n",
       "3                                                NaN             Unknown   \n",
       "4                                                NaN             Unknown   \n",
       "\n",
       "  Class                   geopoint  \n",
       "0    MS  33.57145875, -112.0904854  \n",
       "1    MS  37.79176806, -122.2153171  \n",
       "2    MS  31.07925506, -97.73392317  \n",
       "3    MS      35.242302, -87.334739  \n",
       "4    MS      36.099039, -78.301106  "
      ]
     },
     "execution_count": 36,
     "metadata": {},
     "output_type": "execute_result"
    },
    {
     "data": {
      "text/plain": [
       "(307, 49)"
      ]
     },
     "execution_count": 36,
     "metadata": {},
     "output_type": "execute_result"
    }
   ],
   "source": [
    "import pandas as pd\n",
    "import matplotlib.pyplot as plt\n",
    "%matplotlib inline \n",
    "# to print graphs inside the cell instead of pop-ups\n",
    "from IPython.core.interactiveshell import InteractiveShell\n",
    "InteractiveShell.ast_node_interactivity = 'all'\n",
    "# to print all outputs in the cell\n",
    "\n",
    "df = pd.read_csv('mass_shootings_usa.csv')\n",
    "pd.set_option('display.max_columns', None)\n",
    "# display all columns in interpreter\n",
    "\n",
    "df.head()\n",
    "df.shape"
   ]
  },
  {
   "cell_type": "markdown",
   "metadata": {},
   "source": [
    "# Graph 1: How many shootings occured each year?"
   ]
  },
  {
   "cell_type": "code",
   "execution_count": 39,
   "metadata": {},
   "outputs": [
    {
     "data": {
      "text/plain": [
       "<Figure size 432x288 with 0 Axes>"
      ]
     },
     "execution_count": 39,
     "metadata": {},
     "output_type": "execute_result"
    },
    {
     "data": {
      "text/plain": [
       "Text(0.5, 1.0, '1. USA Yearly Shooting 1966-2016')"
      ]
     },
     "execution_count": 39,
     "metadata": {},
     "output_type": "execute_result"
    },
    {
     "data": {
      "text/plain": [
       "Text(0.5, 0, 'Year')"
      ]
     },
     "execution_count": 39,
     "metadata": {},
     "output_type": "execute_result"
    },
    {
     "data": {
      "text/plain": [
       "Text(0, 0.5, 'Frequency')"
      ]
     },
     "execution_count": 39,
     "metadata": {},
     "output_type": "execute_result"
    },
    {
     "data": {
      "image/png": "[encoded data removed]",
      "text/plain": [
       "<Figure size 432x288 with 1 Axes>"
      ]
     },
     "metadata": {
      "needs_background": "light"
     },
     "output_type": "display_data"
    }
   ],
   "source": [
    "# USA Yearly Shooting 1966-2016\n",
    "\n",
    "import datetime as dt\n",
    "df['Date'] = pd.to_datetime(df['Date'])\n",
    "years = df['Date'].dt.year\n",
    "count = years.value_counts(sort=False)\n",
    "\n",
    "plt.figure(1) \n",
    "plt.style.use('seaborn')\n",
    "# setting plot theme to seaborn\n",
    "\n",
    "c = count.plot(kind='bar', color='indianred', width=0.75)\n",
    "c.yaxis.grid(color='lightgray', linestyle= '--', linewidth=1.25)\n",
    "c.xaxis.grid(False)\n",
    "c.set_title('1. USA Yearly Shooting 1966-2016')\n",
    "plt.xlabel('Year')\n",
    "plt.ylabel('Frequency')\n"
   ]
  },
  {
   "cell_type": "markdown",
   "metadata": {},
   "source": [
    "# Graph 2: Were most shooters mentally ill? "
   ]
  },
  {
   "cell_type": "code",
   "execution_count": 18,
   "metadata": {},
   "outputs": [
    {
     "data": {
      "text/plain": [
       "Text(0.5, 1.0, '2. Probaility of Shooters with Hisotry of Mental Illness')"
      ]
     },
     "execution_count": 18,
     "metadata": {},
     "output_type": "execute_result"
    },
    {
     "data": {
      "image/png": "[encoded data removed]",
      "text/plain": [
       "<Figure size 576x396 with 1 Axes>"
      ]
     },
     "metadata": {},
     "output_type": "display_data"
    }
   ],
   "source": [
    "# how many shooters were mentally ill? \n",
    "df['Year']= df['Date'].dt.year.astype(str)\n",
    "plt.figure(2)\n",
    "df['History of Mental Illness - General'].value_counts().plot(kind='pie',autopct='%1.1f%%')\n",
    "plt.title('2. Probaility of Shooters with Hisotry of Mental Illness')\n"
   ]
  },
  {
   "cell_type": "markdown",
   "metadata": {},
   "source": [
    "# Graph 3: Where do shootings commonly occur?"
   ]
  },
  {
   "cell_type": "code",
   "execution_count": 15,
   "metadata": {},
   "outputs": [
    {
     "data": {
      "text/plain": [
       "Text(0.5, 1.0, '2. Which are Common Places Where Shooting Occurred?')"
      ]
     },
     "execution_count": 15,
     "metadata": {},
     "output_type": "execute_result"
    },
    {
     "data": {
      "image/png": "[encoded data removed]",
      "text/plain": [
       "<Figure size 576x396 with 1 Axes>"
      ]
     },
     "metadata": {},
     "output_type": "display_data"
    }
   ],
   "source": [
    "places = df['Place Type'].str.lower().str.split('/').str.get(0)\n",
    "# split string to retrieve the name of the first token\n",
    "places = places.replace(['college','secondary school','primary school'],'school').str.title().value_counts()\n",
    "# replace all level of schools into same cateogry and set strings to title format,\n",
    "# and then count the total numbers for each category\n",
    "\n",
    "plt.figure(3)\n",
    "places.plot(kind='pie', autopct='%1.1f%%')\n",
    "# plot above into a pie chart, and display the percentages\n",
    "plt.title('3. Which are Common Places Where Shooting Occurred?')\n"
   ]
  },
  {
   "cell_type": "markdown",
   "metadata": {},
   "source": [
    "# Graph 4: What level of school had the most shooting incidents? \n"
   ]
  },
  {
   "cell_type": "code",
   "execution_count": 30,
   "metadata": {},
   "outputs": [
    {
     "data": {
      "text/plain": [
       "<Figure size 432x288 with 0 Axes>"
      ]
     },
     "execution_count": 30,
     "metadata": {},
     "output_type": "execute_result"
    },
    {
     "data": {
      "text/plain": [
       "Text(0.5, 1.0, '4. Which Kind of School Had the Most Shooting?')"
      ]
     },
     "execution_count": 30,
     "metadata": {},
     "output_type": "execute_result"
    },
    {
     "data": {
      "text/plain": [
       "Text(0.5, 0, 'Level of Educational Institution')"
      ]
     },
     "execution_count": 30,
     "metadata": {},
     "output_type": "execute_result"
    },
    {
     "data": {
      "text/plain": [
       "Text(0, 0.5, 'Total Number of Incidents')"
      ]
     },
     "execution_count": 30,
     "metadata": {},
     "output_type": "execute_result"
    },
    {
     "data": {
      "image/png": "[encoded data removed]",
      "text/plain": [
       "<Figure size 432x288 with 1 Axes>"
      ]
     },
     "metadata": {
      "needs_background": "light"
     },
     "output_type": "display_data"
    }
   ],
   "source": [
    "school = df[['School Related','Place Type']]\n",
    "school = school[ school['School Related'].str.lower().str.contains('yes') ]\n",
    "# contain only the 'yes' rows\n",
    "\n",
    "def grade(place_type):\n",
    "    '''Generalizing categories for 'PlaceType' Series. \n",
    "     \n",
    "    Arg: Series (single column DataFrame)\n",
    "        \n",
    "    Search through each element in the Series to find if it contains \n",
    "    college, primary, or secondary, and rename element to the assigned names.\n",
    "    If no matches occured, rename that element to 'Others'. \n",
    "    \n",
    "    '''\n",
    "    if 'college' in place_type.lower() :\n",
    "        return 'College'\n",
    "    elif 'primary' in place_type.lower():\n",
    "        return 'Primary'\n",
    "    elif 'secondary' in place_type.lower():\n",
    "        return 'Secondary'\n",
    "    else:\n",
    "        return 'Others'\n",
    "\n",
    "plt.figure(4)\n",
    "s = school['Place Type'].apply(grade).value_counts().plot(kind='bar', color='steelblue', width=0.5)\n",
    "s.yaxis.grid(color='lightgray', linestyle= '--', linewidth=1.25)\n",
    "s.xaxis.grid(False)\n",
    "\n",
    "s.set_title('4. Which Kind of School Had the Most Shooting?')\n",
    "plt.xlabel('Level of Educational Institution')\n",
    "plt.ylabel('Total Number of Incidents')\n"
   ]
  },
  {
   "cell_type": "markdown",
   "metadata": {},
   "source": [
    "# Graph 5: The difference between the total number of deaths and victims for each year? "
   ]
  },
  {
   "cell_type": "code",
   "execution_count": 45,
   "metadata": {},
   "outputs": [
    {
     "data": {
      "text/plain": [
       "<Figure size 576x396 with 0 Axes>"
      ]
     },
     "execution_count": 45,
     "metadata": {},
     "output_type": "execute_result"
    },
    {
     "data": {
      "text/plain": [
       "Text(0.5, 1.0, '5. Total Number of Fatalities and Victims Each Year')"
      ]
     },
     "execution_count": 45,
     "metadata": {},
     "output_type": "execute_result"
    },
    {
     "data": {
      "text/plain": [
       "Text(0.5, 0, 'Year')"
      ]
     },
     "execution_count": 45,
     "metadata": {},
     "output_type": "execute_result"
    },
    {
     "data": {
      "text/plain": [
       "Text(0, 0.5, 'Total Number of People')"
      ]
     },
     "execution_count": 45,
     "metadata": {},
     "output_type": "execute_result"
    },
    {
     "data": {
      "text/plain": [
       "<Figure size 576x396 with 0 Axes>"
      ]
     },
     "metadata": {},
     "output_type": "display_data"
    },
    {
     "data": {
      "image/png": "[encoded data removed]",
      "text/plain": [
       "<Figure size 576x396 with 1 Axes>"
      ]
     },
     "metadata": {},
     "output_type": "display_data"
    }
   ],
   "source": [
    "df['Year'] = df['Date'].dt.year\n",
    "year_fatal_vict = df[['Year','Total Number of Fatalities','Total Number of Victims']]\n",
    "year_fatal_vict = year_fatal_vict.groupby('Year').sum()\n",
    "\n",
    "plt.figure(5)\n",
    "plt.style.use('ggplot')\n",
    "y = year_fatal_vict.plot(kind= 'bar')\n",
    "y.yaxis.grid(color='lightgray', linestyle= '--', linewidth=1.25)\n",
    "y.xaxis.grid(False)\n",
    "\n",
    "y.set_title('5. Total Number of Fatalities and Victims Each Year')\n",
    "plt.xlabel('Year')\n",
    "plt.ylabel('Total Number of People')"
   ]
  },
  {
   "cell_type": "markdown",
   "metadata": {},
   "source": [
    "# Graph 6 (Map): Which state has the highest number of public mass shooting?\n"
   ]
  },
  {
   "cell_type": "code",
   "execution_count": 46,
   "metadata": {
    "scrolled": true
   },
   "outputs": [
    {
     "data": {
      "text/plain": [
       "Text(0.5, 1.0, 'Mass Shootings in USA From 1966 to 2016')"
      ]
     },
     "execution_count": 46,
     "metadata": {},
     "output_type": "execute_result"
    },
    {
     "data": {
      "text/plain": [
       "<cartopy.mpl.feature_artist.FeatureArtist at 0x151ad51f400>"
      ]
     },
     "execution_count": 46,
     "metadata": {},
     "output_type": "execute_result"
    },
    {
     "data": {
      "text/plain": [
       "<cartopy.mpl.feature_artist.FeatureArtist at 0x151ad5139e8>"
      ]
     },
     "execution_count": 46,
     "metadata": {},
     "output_type": "execute_result"
    },
    {
     "data": {
      "text/plain": [
       "<cartopy.mpl.feature_artist.FeatureArtist at 0x151ad51f8d0>"
      ]
     },
     "execution_count": 46,
     "metadata": {},
     "output_type": "execute_result"
    },
    {
     "data": {
      "text/plain": [
       "<cartopy.mpl.feature_artist.FeatureArtist at 0x151ad51fb00>"
      ]
     },
     "execution_count": 46,
     "metadata": {},
     "output_type": "execute_result"
    },
    {
     "data": {
      "text/plain": [
       "<cartopy.mpl.feature_artist.FeatureArtist at 0x151ad51fdd8>"
      ]
     },
     "execution_count": 46,
     "metadata": {},
     "output_type": "execute_result"
    },
    {
     "data": {
      "text/plain": [
       "<cartopy.mpl.feature_artist.FeatureArtist at 0x151ad51ff28>"
      ]
     },
     "execution_count": 46,
     "metadata": {},
     "output_type": "execute_result"
    },
    {
     "data": {
      "text/plain": [
       "<cartopy.mpl.feature_artist.FeatureArtist at 0x151ad530198>"
      ]
     },
     "execution_count": 46,
     "metadata": {},
     "output_type": "execute_result"
    },
    {
     "data": {
      "text/plain": [
       "<cartopy.mpl.feature_artist.FeatureArtist at 0x151ad5305f8>"
      ]
     },
     "execution_count": 46,
     "metadata": {},
     "output_type": "execute_result"
    },
    {
     "data": {
      "text/plain": [
       "<cartopy.mpl.feature_artist.FeatureArtist at 0x151ad5307f0>"
      ]
     },
     "execution_count": 46,
     "metadata": {},
     "output_type": "execute_result"
    },
    {
     "data": {
      "text/plain": [
       "<cartopy.mpl.feature_artist.FeatureArtist at 0x151ad530940>"
      ]
     },
     "execution_count": 46,
     "metadata": {},
     "output_type": "execute_result"
    },
    {
     "data": {
      "text/plain": [
       "<cartopy.mpl.feature_artist.FeatureArtist at 0x151ad530c18>"
      ]
     },
     "execution_count": 46,
     "metadata": {},
     "output_type": "execute_result"
    },
    {
     "data": {
      "text/plain": [
       "<cartopy.mpl.feature_artist.FeatureArtist at 0x151ad530ef0>"
      ]
     },
     "execution_count": 46,
     "metadata": {},
     "output_type": "execute_result"
    },
    {
     "data": {
      "text/plain": [
       "<cartopy.mpl.feature_artist.FeatureArtist at 0x151ad53c160>"
      ]
     },
     "execution_count": 46,
     "metadata": {},
     "output_type": "execute_result"
    },
    {
     "data": {
      "text/plain": [
       "<cartopy.mpl.feature_artist.FeatureArtist at 0x151ad53c358>"
      ]
     },
     "execution_count": 46,
     "metadata": {},
     "output_type": "execute_result"
    },
    {
     "data": {
      "text/plain": [
       "<cartopy.mpl.feature_artist.FeatureArtist at 0x151ad53c6d8>"
      ]
     },
     "execution_count": 46,
     "metadata": {},
     "output_type": "execute_result"
    },
    {
     "data": {
      "text/plain": [
       "<cartopy.mpl.feature_artist.FeatureArtist at 0x151ad53c828>"
      ]
     },
     "execution_count": 46,
     "metadata": {},
     "output_type": "execute_result"
    },
    {
     "data": {
      "text/plain": [
       "<cartopy.mpl.feature_artist.FeatureArtist at 0x151ad53cb38>"
      ]
     },
     "execution_count": 46,
     "metadata": {},
     "output_type": "execute_result"
    },
    {
     "data": {
      "text/plain": [
       "<cartopy.mpl.feature_artist.FeatureArtist at 0x151ad53ccf8>"
      ]
     },
     "execution_count": 46,
     "metadata": {},
     "output_type": "execute_result"
    },
    {
     "data": {
      "text/plain": [
       "<cartopy.mpl.feature_artist.FeatureArtist at 0x151ad53cfd0>"
      ]
     },
     "execution_count": 46,
     "metadata": {},
     "output_type": "execute_result"
    },
    {
     "data": {
      "text/plain": [
       "<cartopy.mpl.feature_artist.FeatureArtist at 0x151ad547198>"
      ]
     },
     "execution_count": 46,
     "metadata": {},
     "output_type": "execute_result"
    },
    {
     "data": {
      "text/plain": [
       "<cartopy.mpl.feature_artist.FeatureArtist at 0x151ad5473c8>"
      ]
     },
     "execution_count": 46,
     "metadata": {},
     "output_type": "execute_result"
    },
    {
     "data": {
      "text/plain": [
       "<cartopy.mpl.feature_artist.FeatureArtist at 0x151ad547630>"
      ]
     },
     "execution_count": 46,
     "metadata": {},
     "output_type": "execute_result"
    },
    {
     "data": {
      "text/plain": [
       "<cartopy.mpl.feature_artist.FeatureArtist at 0x151ad547898>"
      ]
     },
     "execution_count": 46,
     "metadata": {},
     "output_type": "execute_result"
    },
    {
     "data": {
      "text/plain": [
       "<cartopy.mpl.feature_artist.FeatureArtist at 0x151ad5479e8>"
      ]
     },
     "execution_count": 46,
     "metadata": {},
     "output_type": "execute_result"
    },
    {
     "data": {
      "text/plain": [
       "<cartopy.mpl.feature_artist.FeatureArtist at 0x151ad547c50>"
      ]
     },
     "execution_count": 46,
     "metadata": {},
     "output_type": "execute_result"
    },
    {
     "data": {
      "text/plain": [
       "<cartopy.mpl.feature_artist.FeatureArtist at 0x151ad54b160>"
      ]
     },
     "execution_count": 46,
     "metadata": {},
     "output_type": "execute_result"
    },
    {
     "data": {
      "text/plain": [
       "<cartopy.mpl.feature_artist.FeatureArtist at 0x151ad54b278>"
      ]
     },
     "execution_count": 46,
     "metadata": {},
     "output_type": "execute_result"
    },
    {
     "data": {
      "text/plain": [
       "<cartopy.mpl.feature_artist.FeatureArtist at 0x151ad54b4e0>"
      ]
     },
     "execution_count": 46,
     "metadata": {},
     "output_type": "execute_result"
    },
    {
     "data": {
      "text/plain": [
       "<cartopy.mpl.feature_artist.FeatureArtist at 0x151ad54b860>"
      ]
     },
     "execution_count": 46,
     "metadata": {},
     "output_type": "execute_result"
    },
    {
     "data": {
      "text/plain": [
       "<cartopy.mpl.feature_artist.FeatureArtist at 0x151ad54ba90>"
      ]
     },
     "execution_count": 46,
     "metadata": {},
     "output_type": "execute_result"
    },
    {
     "data": {
      "text/plain": [
       "<cartopy.mpl.feature_artist.FeatureArtist at 0x151ad54bbe0>"
      ]
     },
     "execution_count": 46,
     "metadata": {},
     "output_type": "execute_result"
    },
    {
     "data": {
      "text/plain": [
       "<cartopy.mpl.feature_artist.FeatureArtist at 0x151ad54bf98>"
      ]
     },
     "execution_count": 46,
     "metadata": {},
     "output_type": "execute_result"
    },
    {
     "data": {
      "text/plain": [
       "<cartopy.mpl.feature_artist.FeatureArtist at 0x151ad556128>"
      ]
     },
     "execution_count": 46,
     "metadata": {},
     "output_type": "execute_result"
    },
    {
     "data": {
      "text/plain": [
       "<cartopy.mpl.feature_artist.FeatureArtist at 0x151ad5564a8>"
      ]
     },
     "execution_count": 46,
     "metadata": {},
     "output_type": "execute_result"
    },
    {
     "data": {
      "text/plain": [
       "<cartopy.mpl.feature_artist.FeatureArtist at 0x151ad5565f8>"
      ]
     },
     "execution_count": 46,
     "metadata": {},
     "output_type": "execute_result"
    },
    {
     "data": {
      "text/plain": [
       "<cartopy.mpl.feature_artist.FeatureArtist at 0x151ad556860>"
      ]
     },
     "execution_count": 46,
     "metadata": {},
     "output_type": "execute_result"
    },
    {
     "data": {
      "text/plain": [
       "<cartopy.mpl.feature_artist.FeatureArtist at 0x151ad556ba8>"
      ]
     },
     "execution_count": 46,
     "metadata": {},
     "output_type": "execute_result"
    },
    {
     "data": {
      "text/plain": [
       "<cartopy.mpl.feature_artist.FeatureArtist at 0x151ad556cf8>"
      ]
     },
     "execution_count": 46,
     "metadata": {},
     "output_type": "execute_result"
    },
    {
     "data": {
      "text/plain": [
       "<cartopy.mpl.feature_artist.FeatureArtist at 0x151ad568128>"
      ]
     },
     "execution_count": 46,
     "metadata": {},
     "output_type": "execute_result"
    },
    {
     "data": {
      "text/plain": [
       "<cartopy.mpl.feature_artist.FeatureArtist at 0x151ad568438>"
      ]
     },
     "execution_count": 46,
     "metadata": {},
     "output_type": "execute_result"
    },
    {
     "data": {
      "text/plain": [
       "<cartopy.mpl.feature_artist.FeatureArtist at 0x151ad568668>"
      ]
     },
     "execution_count": 46,
     "metadata": {},
     "output_type": "execute_result"
    },
    {
     "data": {
      "text/plain": [
       "<cartopy.mpl.feature_artist.FeatureArtist at 0x151ad568898>"
      ]
     },
     "execution_count": 46,
     "metadata": {},
     "output_type": "execute_result"
    },
    {
     "data": {
      "text/plain": [
       "<cartopy.mpl.feature_artist.FeatureArtist at 0x151ad5689b0>"
      ]
     },
     "execution_count": 46,
     "metadata": {},
     "output_type": "execute_result"
    },
    {
     "data": {
      "text/plain": [
       "<cartopy.mpl.feature_artist.FeatureArtist at 0x151ad568cc0>"
      ]
     },
     "execution_count": 46,
     "metadata": {},
     "output_type": "execute_result"
    },
    {
     "data": {
      "text/plain": [
       "<cartopy.mpl.feature_artist.FeatureArtist at 0x151ad568e10>"
      ]
     },
     "execution_count": 46,
     "metadata": {},
     "output_type": "execute_result"
    },
    {
     "data": {
      "text/plain": [
       "<cartopy.mpl.feature_artist.FeatureArtist at 0x151ad56e240>"
      ]
     },
     "execution_count": 46,
     "metadata": {},
     "output_type": "execute_result"
    },
    {
     "data": {
      "text/plain": [
       "<cartopy.mpl.feature_artist.FeatureArtist at 0x151ad56e438>"
      ]
     },
     "execution_count": 46,
     "metadata": {},
     "output_type": "execute_result"
    },
    {
     "data": {
      "text/plain": [
       "<cartopy.mpl.feature_artist.FeatureArtist at 0x151ad56e668>"
      ]
     },
     "execution_count": 46,
     "metadata": {},
     "output_type": "execute_result"
    },
    {
     "data": {
      "text/plain": [
       "<cartopy.mpl.feature_artist.FeatureArtist at 0x151ad56e9e8>"
      ]
     },
     "execution_count": 46,
     "metadata": {},
     "output_type": "execute_result"
    },
    {
     "data": {
      "text/plain": [
       "<cartopy.mpl.feature_artist.FeatureArtist at 0x151ad56ec18>"
      ]
     },
     "execution_count": 46,
     "metadata": {},
     "output_type": "execute_result"
    },
    {
     "data": {
      "text/plain": [
       "<cartopy.mpl.feature_artist.FeatureArtist at 0x151ad56ee48>"
      ]
     },
     "execution_count": 46,
     "metadata": {},
     "output_type": "execute_result"
    },
    {
     "data": {
      "image/png": "[encoded data removed]",
      "text/plain": [
       "<Figure size 576x396 with 1 Axes>"
      ]
     },
     "metadata": {},
     "output_type": "display_data"
    },
    {
     "name": "stdout",
     "output_type": "stream",
     "text": [
      "Result:       California has the most mass shootings as of 2016.\n"
     ]
    }
   ],
   "source": [
    "import cartopy.crs as ccrs\n",
    "import cartopy.feature as cfeat\n",
    "import cartopy.io.shapereader as shpreader\n",
    "\n",
    "states = df['State'].value_counts().keys().tolist()\n",
    "counts = df['State'].value_counts().tolist()\n",
    "state_counts = dict(zip(states, counts))\n",
    "\n",
    "#---\n",
    "fig = plt.figure(5)\n",
    "ax = fig.add_axes([0, 0, 1, 1], projection=ccrs.LambertConformal())\n",
    "\n",
    "ax.set_extent([-125, -66.5, 20, 50], ccrs.Geodetic())\n",
    "\n",
    "shapename = 'admin_1_states_provinces_lakes_shp'\n",
    "states_shp = shpreader.natural_earth(resolution='110m',\n",
    "                                     category='cultural', name=shapename)\n",
    "# this downloads, unzips, and reads the shapefile from Natrual Earth data\n",
    "# resolution specifies the level of detail in the data\n",
    "# category specifies the category of data to pull out\n",
    "    # cultural--> deals with political and administrative boundaries\n",
    "# name specifies the type of data to be downloaded in shapefile format\n",
    "\n",
    "ax.background_patch.set_visible(False)\n",
    "ax.outline_patch.set_visible(False)\n",
    "ax.set_title('Mass Shootings in USA From 1966 to 2016')\n",
    "\n",
    "for astate in shpreader.Reader(states_shp).records():\n",
    "   \n",
    "    # set state boarder color to black \n",
    "    edgecolor = 'black'\n",
    "\n",
    "    try:\n",
    "        count_value = state_counts[ astate.attributes['name'] ]\n",
    "        # if astate name exist in states_shp, \n",
    "        # use that state name and refer it back to state_counts\n",
    "        # and then get the key value of that state\n",
    "    except:\n",
    "        count_value = 0\n",
    "        # if astate name does not exist in state_counts,\n",
    "        # make that state's key value = 0\n",
    "\n",
    "    # simple scheme to assign color to each state\n",
    "    if count_value > 0 and count_value < 5:\n",
    "        facecolor = \"moccasin\"\n",
    "    elif count_value > 5 and count_value < 10:\n",
    "        facecolor = \"lightsalmon\"\n",
    "    elif count_value > 10 and count_value < 20:\n",
    "        facecolor = \"tomato\"\n",
    "    elif count_value > 30:\n",
    "        facecolor = \"red\"\n",
    "    else:\n",
    "        facecolor = \"lightyellow\"\n",
    "\n",
    "    # `astate.geometry` is the polygon to plot\n",
    "    ax.add_geometries([astate.geometry], ccrs.PlateCarree(),\n",
    "                      facecolor=facecolor, edgecolor=edgecolor)\n",
    "\n",
    "plt.show()\n",
    "print('Result: \\\n",
    "      California has the most mass shootings as of 2016.')\n",
    "\n",
    "# Resources: \n",
    "# https://books.google.com/books?id=14d0DwAAQBAJ&pg=PA502&lpg=PA502&dq=shpreader.Reader(states_shp)&source=bl&ots=JGK_BDlDMl&sig=ACfU3U3A6ZNR5xJxoaif-BmxdwH6vLbPfQ&hl=en&sa=X&ved=2ahUKEwjhmOGX5NjiAhV0ITQIHft5BNoQ6AEwBHoECAkQAQ#v=onepage&q=shpreader.Reader(states_shp)&f=false"
   ]
  },
  {
   "cell_type": "code",
   "execution_count": null,
   "metadata": {},
   "outputs": [],
   "source": []
  }
 ],
 "metadata": {
  "kernelspec": {
   "display_name": "Python 3",
   "language": "python",
   "name": "python3"
  },
  "language_info": {
   "codemirror_mode": {
    "name": "ipython",
    "version": 3
   },
   "file_extension": ".py",
   "mimetype": "text/x-python",
   "name": "python",
   "nbconvert_exporter": "python",
   "pygments_lexer": "ipython3",
   "version": "3.7.3"
  }
 },
 "nbformat": 4,
 "nbformat_minor": 2
}
